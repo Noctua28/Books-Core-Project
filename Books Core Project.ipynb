{
 "cells": [
  {
   "attachments": {
    "ERD.png": {
     "image/png": "[encoded data removed]"
    }
   },
   "cell_type": "markdown",
   "id": "3f40a43c",
   "metadata": {},
   "source": [
    "![ERD.png](attachment:ERD.png)"
   ]
  },
  {
   "cell_type": "code",
   "execution_count": 27,
   "id": "cde706f7",
   "metadata": {},
   "outputs": [
    {
     "name": "stdout",
     "output_type": "stream",
     "text": [
      "Requirement already satisfied: sqlalchemy in c:\\users\\aharo\\anaconda3\\envs\\dojo-env\\lib\\site-packages (1.4.39)\n",
      "Requirement already satisfied: greenlet!=0.4.17 in c:\\users\\aharo\\anaconda3\\envs\\dojo-env\\lib\\site-packages (from sqlalchemy) (2.0.1)\n",
      "Requirement already satisfied: pymysql in c:\\users\\aharo\\anaconda3\\envs\\dojo-env\\lib\\site-packages (1.0.2)\n"
     ]
    }
   ],
   "source": [
    "!pip install sqlalchemy\n",
    "!pip install pymysql"
   ]
  },
  {
   "cell_type": "code",
   "execution_count": 32,
   "id": "4ba203e6",
   "metadata": {},
   "outputs": [],
   "source": [
    "# Import Libraries\n",
    "import pandas as pd\n",
    "from sqlalchemy import create_engine"
   ]
  },
  {
   "cell_type": "code",
   "execution_count": 52,
   "id": "400cee0a",
   "metadata": {},
   "outputs": [],
   "source": [
    "# Connection String \n",
    "username = 'root'\n",
    "password = 'NnbmXY7K_urHTThq'\n",
    "database_name = 'books'\n",
    "host = 'localhost'\n",
    "port = '3306'\n",
    "connection = f\"mysql+pymysql://{username}:{password}@{host}:{port}/{database_name}\""
   ]
  },
  {
   "cell_type": "code",
   "execution_count": 53,
   "id": "9acc0c9e",
   "metadata": {},
   "outputs": [],
   "source": [
    "# Create engine\n",
    "engine = create_engine(connection)"
   ]
  },
  {
   "cell_type": "code",
   "execution_count": 54,
   "id": "3d00cf8d",
   "metadata": {},
   "outputs": [
    {
     "data": {
      "text/plain": [
       "<sqlalchemy.engine.cursor.LegacyCursorResult at 0x24008f84340>"
      ]
     },
     "execution_count": 54,
     "metadata": {},
     "output_type": "execute_result"
    }
   ],
   "source": [
    "# Create the 'books' database\n",
    "engine.execute(\"CREATE DATABASE IF NOT EXISTS books\")"
   ]
  },
  {
   "cell_type": "code",
   "execution_count": 55,
   "id": "bdecb68c",
   "metadata": {},
   "outputs": [
    {
     "data": {
      "text/plain": [
       "<sqlalchemy.engine.cursor.LegacyCursorResult at 0x24008f841f0>"
      ]
     },
     "execution_count": 55,
     "metadata": {},
     "output_type": "execute_result"
    }
   ],
   "source": [
    "# Switch to the 'books' database\n",
    "engine.execute(\"USE books\")"
   ]
  },
  {
   "cell_type": "code",
   "execution_count": 56,
   "id": "204fbf07",
   "metadata": {},
   "outputs": [],
   "source": [
    "# Loading datasets\n",
    "users_df = pd.read_csv('https://docs.google.com/spreadsheets/d/1_c2WTx_eiH8pUM-PTgyt7T4aIl1A3Cp1ukPVPEijoYc/gviz/tq?tqx=out:csv&sheet=users')\n",
    "books_df = pd.read_csv('https://docs.google.com/spreadsheets/d/1_D-vW7GXiQfG6D9nzjscgVctKLb6TZl_o8ERNH_tet8/gviz/tq?tqx=out:csv&sheet=books')\n",
    "authors_df = pd.read_csv('https://docs.google.com/spreadsheets/d/17rABPt5eaIxfhGO75dYCbH-5IloKsAR0HH9V6VC43ZI/gviz/tq?tqx=out:csv&sheet=authors')\n",
    "favorites_df = pd.read_csv('https://docs.google.com/spreadsheets/d/1SLb3RAhcrZsPWRwR0_njWX7KssUYZ16JFsVqBkSU2GI/gviz/tq?tqx=out:csv&sheet=favorite')"
   ]
  },
  {
   "cell_type": "code",
   "execution_count": 57,
   "id": "f86df4f6",
   "metadata": {},
   "outputs": [
    {
     "data": {
      "text/plain": [
       "7"
      ]
     },
     "execution_count": 57,
     "metadata": {},
     "output_type": "execute_result"
    }
   ],
   "source": [
    "# Create tables in the 'books' database\n",
    "users_df.to_sql('users', engine, if_exists='replace', index=False)\n",
    "books_df.to_sql('books', engine, if_exists='replace', index=False)\n",
    "authors_df.to_sql('authors', engine, if_exists='replace', index=False)\n",
    "favorites_df.to_sql('favorites', engine, if_exists='replace', index=False)"
   ]
  },
  {
   "cell_type": "code",
   "execution_count": 58,
   "id": "aa48fd9b",
   "metadata": {},
   "outputs": [],
   "source": [
    "# Close the engine\n",
    "engine.dispose()"
   ]
  },
  {
   "cell_type": "markdown",
   "id": "dd303c2c",
   "metadata": {},
   "source": [
    "# Testing Database"
   ]
  },
  {
   "cell_type": "code",
   "execution_count": 59,
   "id": "b886d4c0",
   "metadata": {},
   "outputs": [
    {
     "name": "stdout",
     "output_type": "stream",
     "text": [
      "('authors',)\n",
      "('books',)\n",
      "('favorites',)\n",
      "('users',)\n"
     ]
    }
   ],
   "source": [
    "result = engine.execute(\"SHOW TABLES\")\n",
    "for row in result:\n",
    "    print(row)"
   ]
  },
  {
   "cell_type": "code",
   "execution_count": 60,
   "id": "c8200567",
   "metadata": {},
   "outputs": [
    {
     "name": "stdout",
     "output_type": "stream",
     "text": [
      "The Shining\n",
      "It\n",
      "The Great Gatsby\n"
     ]
    }
   ],
   "source": [
    "query = \"\"\"\n",
    "SELECT books.title\n",
    "FROM books\n",
    "JOIN favorites ON books.id = favorites.book_id\n",
    "WHERE favorites.user_id = (\n",
    "    SELECT users.id FROM users WHERE (users.last_name = 'Doe' AND users.first_name = 'John')\n",
    ")\n",
    "\"\"\"\n",
    "\n",
    "result = engine.execute(query)\n",
    "for row in result:\n",
    "    print(row[0])"
   ]
  }
 ],
 "metadata": {
  "kernelspec": {
   "display_name": "Python 3 (ipykernel)",
   "language": "python",
   "name": "python3"
  },
  "language_info": {
   "codemirror_mode": {
    "name": "ipython",
    "version": 3
   },
   "file_extension": ".py",
   "mimetype": "text/x-python",
   "name": "python",
   "nbconvert_exporter": "python",
   "pygments_lexer": "ipython3",
   "version": "3.9.15"
  },
  "toc": {
   "base_numbering": 1,
   "nav_menu": {},
   "number_sections": true,
   "sideBar": true,
   "skip_h1_title": false,
   "title_cell": "Table of Contents",
   "title_sidebar": "Contents",
   "toc_cell": false,
   "toc_position": {},
   "toc_section_display": true,
   "toc_window_display": false
  }
 },
 "nbformat": 4,
 "nbformat_minor": 5
}
